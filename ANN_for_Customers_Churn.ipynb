{
  "nbformat": 4,
  "nbformat_minor": 0,
  "metadata": {
    "colab": {
      "name": "ANN for Customers Churn ",
      "provenance": []
    },
    "kernelspec": {
      "name": "python3",
      "display_name": "Python 3"
    },
    "language_info": {
      "name": "python"
    },
    "accelerator": "GPU"
  },
  "cells": [
    {
      "cell_type": "code",
      "execution_count": 1,
      "metadata": {
        "colab": {
          "base_uri": "https://localhost:8080/"
        },
        "id": "o2PySV3zQI1A",
        "outputId": "46f6a7e6-0e51-4e13-8e7e-0bf8553cc9a3"
      },
      "outputs": [
        {
          "output_type": "stream",
          "name": "stdout",
          "text": [
            "Drive already mounted at /content/drive; to attempt to forcibly remount, call drive.mount(\"/content/drive\", force_remount=True).\n"
          ]
        }
      ],
      "source": [
        "from google.colab import drive\n",
        "drive.mount('/content/drive')"
      ]
    },
    {
      "cell_type": "code",
      "source": [
        "!pip install -q keras"
      ],
      "metadata": {
        "id": "AO1t75AyRpZl"
      },
      "execution_count": 2,
      "outputs": []
    },
    {
      "cell_type": "code",
      "source": [
        "import pandas as pd"
      ],
      "metadata": {
        "id": "l0cAvsobRvMS"
      },
      "execution_count": 3,
      "outputs": []
    },
    {
      "cell_type": "code",
      "source": [
        "# Part 1 - data Preprocessing\n",
        "#Importing the libraries\n",
        "import numpy as np\n",
        "import matplotlib.pyplot as plt\n",
        "import pandas as pd\n"
      ],
      "metadata": {
        "id": "pVMz4HEaR1ml"
      },
      "execution_count": 4,
      "outputs": []
    },
    {
      "cell_type": "code",
      "source": [
        "#Importing the dataset\n",
        "dataset=pd.read_csv('/content/drive/MyDrive/Colab Notebooks/Churn_Modelling (1)/Churn_Modelling.csv')\n",
        "X=dataset.iloc[:,3:13]\n",
        "y=dataset.iloc[:,13]\n"
      ],
      "metadata": {
        "id": "VnUQ5OJPT-Pz"
      },
      "execution_count": 5,
      "outputs": []
    },
    {
      "cell_type": "code",
      "source": [
        "#created dummy variables\n",
        "#Create dummy variables\n",
        "geography=pd.get_dummies(X[\"Geography\"],drop_first=True)\n",
        "gender=pd.get_dummies(X['Gender'],drop_first=True)"
      ],
      "metadata": {
        "id": "jJphHhgdU1L7"
      },
      "execution_count": 7,
      "outputs": []
    },
    {
      "cell_type": "code",
      "source": [
        "## Concatenate the Data Frames\n",
        "\n",
        "X=pd.concat([X,geography,gender],axis=1)\n",
        "\n",
        "## Drop Unnecessary columns\n",
        "X=X.drop(['Geography','Gender'],axis=1)\n",
        "\n",
        "# Splitting the dataset into the Training set and Test set\n",
        "from sklearn.model_selection import train_test_split\n",
        "X_train, X_test, y_train, y_test = train_test_split(X, y, test_size = 0.2, random_state = 0)\n"
      ],
      "metadata": {
        "id": "zRoXJ5BIWGRF"
      },
      "execution_count": 8,
      "outputs": []
    },
    {
      "cell_type": "code",
      "source": [
        "# Feature Scaling\n",
        "from sklearn.preprocessing import StandardScaler\n",
        "sc = StandardScaler()\n",
        "X_train = sc.fit_transform(X_train)\n",
        "X_test = sc.transform(X_test)"
      ],
      "metadata": {
        "id": "0t6GbCkGWQEq"
      },
      "execution_count": 9,
      "outputs": []
    },
    {
      "cell_type": "code",
      "source": [
        "# Part 2 - Now let's make the ANN!"
      ],
      "metadata": {
        "id": "NlJA9CaFWXhB"
      },
      "execution_count": 10,
      "outputs": []
    },
    {
      "cell_type": "code",
      "source": [
        "from tensorflow.keras.models import Sequential\n",
        "from tensorflow.keras.layers import Dense\n",
        "from tensorflow.keras.layers import LeakyReLU,PReLU,ELU\n",
        "from tensorflow.keras.layers import Dropout\n"
      ],
      "metadata": {
        "id": "ThLLSjfWWhGA"
      },
      "execution_count": 11,
      "outputs": []
    },
    {
      "cell_type": "code",
      "source": [
        "# Initialising the ANN\n",
        "classifier = Sequential()"
      ],
      "metadata": {
        "id": "StBYVc6fWwVF"
      },
      "execution_count": 12,
      "outputs": []
    },
    {
      "cell_type": "code",
      "source": [
        "# Adding the input layer and the first hidden layer\n",
        "classifier.add(Dense(units=11,activation='relu'))"
      ],
      "metadata": {
        "id": "yLHVGVWxW9n1"
      },
      "execution_count": 13,
      "outputs": []
    },
    {
      "cell_type": "code",
      "source": [
        "# Adding the input layer and the first hidden layer\n",
        "classifier.add(Dense(units=6,activation='relu'))"
      ],
      "metadata": {
        "id": "SvoAvQeDXnGL"
      },
      "execution_count": 14,
      "outputs": []
    },
    {
      "cell_type": "code",
      "source": [
        "# Adding the input layer and the first hidden layer\n",
        "classifier.add(Dense(units=1,activation='relu'))"
      ],
      "metadata": {
        "id": "nUgoUzQ-Xvca"
      },
      "execution_count": 15,
      "outputs": []
    },
    {
      "cell_type": "code",
      "source": [
        "classifier.compile(optimizer='adam',loss='binary_crossentropy',metrics=['accuracy'])"
      ],
      "metadata": {
        "id": "Q_cPaurUX6ew"
      },
      "execution_count": 16,
      "outputs": []
    },
    {
      "cell_type": "code",
      "source": [
        "model_history=classifier.fit(X_train,y_train,validation_split=0.33,batch_size=10,epochs=50)"
      ],
      "metadata": {
        "colab": {
          "base_uri": "https://localhost:8080/"
        },
        "id": "s_dqnvt6YHU0",
        "outputId": "a3a55404-edb5-470d-b7a4-f6767a054bd3"
      },
      "execution_count": 17,
      "outputs": [
        {
          "output_type": "stream",
          "name": "stdout",
          "text": [
            "Epoch 1/50\n",
            "536/536 [==============================] - 8s 6ms/step - loss: 3.0957 - accuracy: 0.7962 - val_loss: 3.0912 - val_accuracy: 0.7955\n",
            "Epoch 2/50\n",
            "536/536 [==============================] - 3s 5ms/step - loss: 3.0750 - accuracy: 0.7962 - val_loss: 3.0601 - val_accuracy: 0.7955\n",
            "Epoch 3/50\n",
            "536/536 [==============================] - 3s 5ms/step - loss: 3.0639 - accuracy: 0.7962 - val_loss: 3.0705 - val_accuracy: 0.7955\n",
            "Epoch 4/50\n",
            "536/536 [==============================] - 3s 5ms/step - loss: 3.0196 - accuracy: 0.7960 - val_loss: 2.8916 - val_accuracy: 0.7955\n",
            "Epoch 5/50\n",
            "536/536 [==============================] - 3s 5ms/step - loss: 2.4051 - accuracy: 0.7916 - val_loss: 0.9640 - val_accuracy: 0.7592\n",
            "Epoch 6/50\n",
            "536/536 [==============================] - 3s 5ms/step - loss: 0.7058 - accuracy: 0.7421 - val_loss: 0.5914 - val_accuracy: 0.7758\n",
            "Epoch 7/50\n",
            "536/536 [==============================] - 3s 5ms/step - loss: 0.5389 - accuracy: 0.7856 - val_loss: 0.5396 - val_accuracy: 0.7993\n",
            "Epoch 8/50\n",
            "536/536 [==============================] - 3s 5ms/step - loss: 0.5036 - accuracy: 0.7990 - val_loss: 0.5101 - val_accuracy: 0.7986\n",
            "Epoch 9/50\n",
            "536/536 [==============================] - 3s 5ms/step - loss: 0.4933 - accuracy: 0.7996 - val_loss: 0.4928 - val_accuracy: 0.7974\n",
            "Epoch 10/50\n",
            "536/536 [==============================] - 3s 5ms/step - loss: 0.4808 - accuracy: 0.8018 - val_loss: 0.4892 - val_accuracy: 0.7986\n",
            "Epoch 11/50\n",
            "536/536 [==============================] - 3s 5ms/step - loss: 0.4676 - accuracy: 0.8007 - val_loss: 0.4755 - val_accuracy: 0.8031\n",
            "Epoch 12/50\n",
            "536/536 [==============================] - 3s 5ms/step - loss: 0.4596 - accuracy: 0.8031 - val_loss: 0.4667 - val_accuracy: 0.8073\n",
            "Epoch 13/50\n",
            "536/536 [==============================] - 3s 5ms/step - loss: 0.4611 - accuracy: 0.8031 - val_loss: 0.4616 - val_accuracy: 0.8039\n",
            "Epoch 14/50\n",
            "536/536 [==============================] - 3s 5ms/step - loss: 0.4506 - accuracy: 0.8044 - val_loss: 0.4541 - val_accuracy: 0.8023\n",
            "Epoch 15/50\n",
            "536/536 [==============================] - 3s 5ms/step - loss: 0.4445 - accuracy: 0.8069 - val_loss: 0.4526 - val_accuracy: 0.8050\n",
            "Epoch 16/50\n",
            "536/536 [==============================] - 3s 5ms/step - loss: 0.4414 - accuracy: 0.8112 - val_loss: 0.4467 - val_accuracy: 0.8046\n",
            "Epoch 17/50\n",
            "536/536 [==============================] - 3s 5ms/step - loss: 0.4388 - accuracy: 0.8100 - val_loss: 0.4475 - val_accuracy: 0.8118\n",
            "Epoch 18/50\n",
            "536/536 [==============================] - 3s 5ms/step - loss: 0.4341 - accuracy: 0.8151 - val_loss: 0.4508 - val_accuracy: 0.8133\n",
            "Epoch 19/50\n",
            "536/536 [==============================] - 3s 5ms/step - loss: 0.4273 - accuracy: 0.8186 - val_loss: 0.4501 - val_accuracy: 0.8152\n",
            "Epoch 20/50\n",
            "536/536 [==============================] - 3s 5ms/step - loss: 0.4318 - accuracy: 0.8197 - val_loss: 0.4554 - val_accuracy: 0.8164\n",
            "Epoch 21/50\n",
            "536/536 [==============================] - 3s 5ms/step - loss: 0.4314 - accuracy: 0.8224 - val_loss: 0.4511 - val_accuracy: 0.8171\n",
            "Epoch 22/50\n",
            "536/536 [==============================] - 3s 5ms/step - loss: 0.4248 - accuracy: 0.8227 - val_loss: 0.4416 - val_accuracy: 0.8183\n",
            "Epoch 23/50\n",
            "536/536 [==============================] - 3s 5ms/step - loss: 0.4168 - accuracy: 0.8257 - val_loss: 0.4271 - val_accuracy: 0.8194\n",
            "Epoch 24/50\n",
            "536/536 [==============================] - 3s 5ms/step - loss: 0.4150 - accuracy: 0.8285 - val_loss: 0.4549 - val_accuracy: 0.8220\n",
            "Epoch 25/50\n",
            "536/536 [==============================] - 3s 5ms/step - loss: 0.4151 - accuracy: 0.8304 - val_loss: 0.4362 - val_accuracy: 0.8220\n",
            "Epoch 26/50\n",
            "536/536 [==============================] - 3s 5ms/step - loss: 0.4305 - accuracy: 0.8287 - val_loss: 0.4489 - val_accuracy: 0.8209\n",
            "Epoch 27/50\n",
            "536/536 [==============================] - 3s 5ms/step - loss: 0.4285 - accuracy: 0.8308 - val_loss: 0.4249 - val_accuracy: 0.8201\n",
            "Epoch 28/50\n",
            "536/536 [==============================] - 3s 5ms/step - loss: 0.4253 - accuracy: 0.8324 - val_loss: 0.4281 - val_accuracy: 0.8217\n",
            "Epoch 29/50\n",
            "536/536 [==============================] - 3s 5ms/step - loss: 0.4143 - accuracy: 0.8336 - val_loss: 0.4438 - val_accuracy: 0.8254\n",
            "Epoch 30/50\n",
            "536/536 [==============================] - 3s 5ms/step - loss: 0.4137 - accuracy: 0.8337 - val_loss: 0.4516 - val_accuracy: 0.8254\n",
            "Epoch 31/50\n",
            "536/536 [==============================] - 3s 5ms/step - loss: 0.4101 - accuracy: 0.8315 - val_loss: 0.4311 - val_accuracy: 0.8285\n",
            "Epoch 32/50\n",
            "536/536 [==============================] - 3s 5ms/step - loss: 0.4119 - accuracy: 0.8319 - val_loss: 0.4295 - val_accuracy: 0.8270\n",
            "Epoch 33/50\n",
            "536/536 [==============================] - 3s 5ms/step - loss: 0.4166 - accuracy: 0.8306 - val_loss: 0.4471 - val_accuracy: 0.8300\n",
            "Epoch 34/50\n",
            "536/536 [==============================] - 3s 5ms/step - loss: 0.4165 - accuracy: 0.8336 - val_loss: 0.4650 - val_accuracy: 0.8338\n",
            "Epoch 35/50\n",
            "536/536 [==============================] - 3s 5ms/step - loss: 0.4137 - accuracy: 0.8334 - val_loss: 0.4418 - val_accuracy: 0.8296\n",
            "Epoch 36/50\n",
            "536/536 [==============================] - 3s 5ms/step - loss: 0.4134 - accuracy: 0.8336 - val_loss: 0.4409 - val_accuracy: 0.8277\n",
            "Epoch 37/50\n",
            "536/536 [==============================] - 3s 5ms/step - loss: 0.4092 - accuracy: 0.8324 - val_loss: 0.4537 - val_accuracy: 0.8311\n",
            "Epoch 38/50\n",
            "536/536 [==============================] - 3s 5ms/step - loss: 0.4049 - accuracy: 0.8347 - val_loss: 0.4571 - val_accuracy: 0.8292\n",
            "Epoch 39/50\n",
            "536/536 [==============================] - 3s 6ms/step - loss: 0.4073 - accuracy: 0.8339 - val_loss: 0.4679 - val_accuracy: 0.8281\n",
            "Epoch 40/50\n",
            "536/536 [==============================] - 3s 5ms/step - loss: 0.4023 - accuracy: 0.8337 - val_loss: 0.4798 - val_accuracy: 0.8292\n",
            "Epoch 41/50\n",
            "536/536 [==============================] - 3s 5ms/step - loss: 0.4079 - accuracy: 0.8334 - val_loss: 0.4657 - val_accuracy: 0.8315\n",
            "Epoch 42/50\n",
            "536/536 [==============================] - 3s 5ms/step - loss: 0.4090 - accuracy: 0.8324 - val_loss: 0.4538 - val_accuracy: 0.8307\n",
            "Epoch 43/50\n",
            "536/536 [==============================] - 3s 5ms/step - loss: 0.4048 - accuracy: 0.8336 - val_loss: 0.4486 - val_accuracy: 0.8323\n",
            "Epoch 44/50\n",
            "536/536 [==============================] - 3s 5ms/step - loss: 0.4020 - accuracy: 0.8336 - val_loss: 0.4726 - val_accuracy: 0.8319\n",
            "Epoch 45/50\n",
            "536/536 [==============================] - 3s 5ms/step - loss: 0.3972 - accuracy: 0.8347 - val_loss: 0.4338 - val_accuracy: 0.8289\n",
            "Epoch 46/50\n",
            "536/536 [==============================] - 3s 5ms/step - loss: 0.4061 - accuracy: 0.8354 - val_loss: 0.4527 - val_accuracy: 0.8300\n",
            "Epoch 47/50\n",
            "536/536 [==============================] - 3s 5ms/step - loss: 0.3966 - accuracy: 0.8345 - val_loss: 0.4397 - val_accuracy: 0.8296\n",
            "Epoch 48/50\n",
            "536/536 [==============================] - 3s 5ms/step - loss: 0.3972 - accuracy: 0.8328 - val_loss: 0.4471 - val_accuracy: 0.8148\n",
            "Epoch 49/50\n",
            "536/536 [==============================] - 3s 5ms/step - loss: 0.4018 - accuracy: 0.8319 - val_loss: 0.4677 - val_accuracy: 0.8281\n",
            "Epoch 50/50\n",
            "536/536 [==============================] - 3s 5ms/step - loss: 0.3984 - accuracy: 0.8365 - val_loss: 0.4620 - val_accuracy: 0.8292\n"
          ]
        }
      ]
    },
    {
      "cell_type": "code",
      "source": [
        "# list all data in history\n",
        "\n",
        "print(model_history.history.keys())"
      ],
      "metadata": {
        "colab": {
          "base_uri": "https://localhost:8080/"
        },
        "id": "sP36AbY7YQO3",
        "outputId": "704ad82a-0e7e-476f-97d2-d30030c0e95c"
      },
      "execution_count": 18,
      "outputs": [
        {
          "output_type": "stream",
          "name": "stdout",
          "text": [
            "dict_keys(['loss', 'accuracy', 'val_loss', 'val_accuracy'])\n"
          ]
        }
      ]
    },
    {
      "cell_type": "code",
      "source": [
        "# summarize history for accuracy\n",
        "plt.plot(model_history.history['accuracy'])\n",
        "plt.plot(model_history.history['val_accuracy'])\n",
        "plt.title('model accuracy')\n",
        "plt.ylabel('accuracy')\n",
        "plt.xlabel('epoch')\n",
        "plt.legend(['train', 'test'], loc='upper left')\n",
        "plt.show()"
      ],
      "metadata": {
        "colab": {
          "base_uri": "https://localhost:8080/",
          "height": 295
        },
        "id": "tMsn843DZCmu",
        "outputId": "b543e3e2-d49b-4a15-bb41-2076cf32599e"
      },
      "execution_count": 19,
      "outputs": [
        {
          "output_type": "display_data",
          "data": {
            "text/plain": [
              "<Figure size 432x288 with 1 Axes>"
            ],
            "image/png": "[encoded data removed]"
          },
          "metadata": {
            "needs_background": "light"
          }
        }
      ]
    },
    {
      "cell_type": "code",
      "source": [
        "# summarize history for loss\n",
        "plt.plot(model_history.history['loss'])\n",
        "plt.plot(model_history.history['val_loss'])\n",
        "plt.title('model loss')\n",
        "plt.ylabel('loss')\n",
        "plt.xlabel('epoch')\n",
        "plt.legend(['train', 'test'], loc='upper left')\n",
        "plt.show()"
      ],
      "metadata": {
        "colab": {
          "base_uri": "https://localhost:8080/",
          "height": 295
        },
        "id": "suHXh79wZT3A",
        "outputId": "7b641768-213d-4719-f1cd-05664b455140"
      },
      "execution_count": 20,
      "outputs": [
        {
          "output_type": "display_data",
          "data": {
            "text/plain": [
              "<Figure size 432x288 with 1 Axes>"
            ],
            "image/png": "[encoded data removed]"
          },
          "metadata": {
            "needs_background": "light"
          }
        }
      ]
    },
    {
      "cell_type": "code",
      "source": [
        "# Part 3 - Making the predictions and evaluating the model\n",
        "\n",
        "# Predicting the Test set results\n",
        "y_pred = classifier.predict(X_test)\n",
        "y_pred = (y_pred > 0.5)"
      ],
      "metadata": {
        "id": "R9ZPb7CJZ3B-"
      },
      "execution_count": 21,
      "outputs": []
    },
    {
      "cell_type": "code",
      "source": [
        "# Making the Confusion Matrix\n",
        "from sklearn.metrics import confusion_matrix\n",
        "cm = confusion_matrix(y_test, y_pred)\n",
        "cm"
      ],
      "metadata": {
        "colab": {
          "base_uri": "https://localhost:8080/"
        },
        "id": "Bwwn5csXaC8N",
        "outputId": "dbeddd17-183e-4acd-b37c-8af60f58bc10"
      },
      "execution_count": 22,
      "outputs": [
        {
          "output_type": "execute_result",
          "data": {
            "text/plain": [
              "array([[1530,   65],\n",
              "       [ 263,  142]])"
            ]
          },
          "metadata": {},
          "execution_count": 22
        }
      ]
    },
    {
      "cell_type": "code",
      "source": [
        "# Calculate the Accuracy\n",
        "from sklearn.metrics import accuracy_score\n",
        "score=accuracy_score(y_pred,y_test)"
      ],
      "metadata": {
        "id": "N3czOWGCaLdw"
      },
      "execution_count": 23,
      "outputs": []
    },
    {
      "cell_type": "code",
      "source": [
        "score"
      ],
      "metadata": {
        "colab": {
          "base_uri": "https://localhost:8080/"
        },
        "id": "6-UPoYfLaUJE",
        "outputId": "acf2f598-4aa7-499c-87cd-b4350cf4d123"
      },
      "execution_count": 24,
      "outputs": [
        {
          "output_type": "execute_result",
          "data": {
            "text/plain": [
              "0.836"
            ]
          },
          "metadata": {},
          "execution_count": 24
        }
      ]
    },
    {
      "cell_type": "code",
      "source": [
        ""
      ],
      "metadata": {
        "id": "8wClfR4RacBS"
      },
      "execution_count": null,
      "outputs": []
    }
  ]
}